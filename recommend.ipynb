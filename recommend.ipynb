{
 "cells": [
  {
   "cell_type": "code",
   "execution_count": 2,
   "metadata": {},
   "outputs": [],
   "source": [
    "import numpy as np\n",
    "import pandas as pd\n",
    "import matplotlib as plt\n",
    "import scipy\n",
    "import os\n",
    "import csv\n",
    "from sklearn.metrics.pairwise import cosine_similarity"
   ]
  },
  {
   "cell_type": "markdown",
   "metadata": {},
   "source": [
    "## Data Preprocessing"
   ]
  },
  {
   "cell_type": "code",
   "execution_count": 3,
   "metadata": {},
   "outputs": [
    {
     "name": "stdout",
     "output_type": "stream",
     "text": [
      "Files in the folder:\n",
      "all_video_label.csv\n"
     ]
    }
   ],
   "source": [
    "data_dir = r\"./data\"\n",
    "files = os.listdir(data_dir)\n",
    "print(\"Files in the folder:\")\n",
    "for file in files:\n",
    "    print(file)"
   ]
  },
  {
   "cell_type": "code",
   "execution_count": 109,
   "metadata": {},
   "outputs": [
    {
     "name": "stdout",
     "output_type": "stream",
     "text": [
      "212\n"
     ]
    }
   ],
   "source": [
    "# dfs = []\n",
    "# for file in files:\n",
    "#     if (file == \"all_video_label.csv\"): continue\n",
    "#     file_path = os.path.join(data_dir, file)\n",
    "#     df = pd.read_csv(file_path)\n",
    "#     df.fillna(0, inplace=True)\n",
    "#     df['video_id'] = df['video_id'].str.replace('-', '_')\n",
    "#     temp_df = df.drop(columns=['video_id'])\n",
    "#     df = df[(temp_df != 0).any(axis=1)]\n",
    "#     dfs.append(df)\n",
    "# print(dfs[4].head()) \n",
    "# data = None\n",
    "# for df in dfs:\n",
    "#     data = pd.concat([data, df], axis=0)\n",
    "# data = data.reset_index(drop=True)\n",
    "# print(len(data))\n",
    "# data.to_csv(\"./data/all_video_label.csv\", index=True, encoding=\"utf-8\")\n",
    "# data = data.drop(columns=['video_id'])"
   ]
  },
  {
   "cell_type": "markdown",
   "metadata": {},
   "source": [
    "# Load data"
   ]
  },
  {
   "cell_type": "code",
   "execution_count": 6,
   "metadata": {},
   "outputs": [],
   "source": [
    "data = pd.read_csv(os.path.join(data_dir, 'all_video_label.csv'))"
   ]
  },
  {
   "cell_type": "markdown",
   "metadata": {},
   "source": [
    "## Cosine Similarity test"
   ]
  },
  {
   "cell_type": "code",
   "execution_count": 390,
   "metadata": {},
   "outputs": [
    {
     "name": "stdout",
     "output_type": "stream",
     "text": [
      "Recommended Video Indices: [37, 185, 211, 17, 19, 116, 132, 31, 25, 0]\n"
     ]
    }
   ],
   "source": [
    "user_watched_indices = [2, 100]\n",
    "user_watched_data = data.iloc[user_watched_indices]\n",
    "\n",
    "# Compute cosine similarity\n",
    "cosine_similarities = cosine_similarity(user_watched_data, data)\n",
    "\n",
    "# Get indices of videos sorted by similarity (excluding the user's watched videos)\n",
    "video_indices = sorted(range(len(cosine_similarities[0])), key=lambda i: cosine_similarities[0][i], reverse=True)\n",
    "recommended_indices = [index for index in video_indices if index not in user_watched_indices]\n",
    "\n",
    "# Recommend the top N videos\n",
    "top_n_recommendations = recommended_indices[:10]  # Replace N with the desired number of recommendations\n",
    "\n",
    "# Display or use the recommended indices\n",
    "print(\"Recommended Video Indices:\", top_n_recommendations)"
   ]
  },
  {
   "cell_type": "markdown",
   "metadata": {},
   "source": [
    "## print the tag of given video_id"
   ]
  },
  {
   "cell_type": "code",
   "execution_count": 190,
   "metadata": {},
   "outputs": [],
   "source": [
    "def search_tag(id):\n",
    "    target = data.iloc[id]\n",
    "    target = target[target != 0]\n",
    "    print(\"the tag of id = \" + str(id))\n",
    "    for tag in target.index:\n",
    "        print(tag)\n"
   ]
  },
  {
   "cell_type": "markdown",
   "metadata": {},
   "source": [
    "## Cosine Similarity Recommendation\n",
    "\n",
    "N : int    return N most similar video_id\n",
    "user_watched_indices : list   the history watched list of user\n",
    "watched_proportions : "
   ]
  },
  {
   "cell_type": "code",
   "execution_count": 8,
   "metadata": {},
   "outputs": [],
   "source": [
    "def CS(N, user_watched_indices, watched_proportions):\n",
    "    \"\"\"\n",
    "    N: Nth recommended videos\n",
    "    user_watched_incides: User watched video list\n",
    "    watched_proportions: Watched video (proportional) time\n",
    "    \"\"\"\n",
    "    user_watched_data = data.iloc[user_watched_indices]\n",
    "    user_watched_data = user_watched_data.reset_index(drop=True)\n",
    "    \n",
    "    sum = user_watched_data.sum()\n",
    "    print(\"======= the avg vector =======\")\n",
    "    print(sum[sum != 0])\n",
    "    \n",
    "    # add up a noise on the watching_proportion   \n",
    "    # watching_propotions += np.random.uniform(0.2, 0.5, len(watching_propotions))\n",
    "\n",
    "    # weigthed the data with watching proportion\n",
    "    for ind, row in user_watched_data.iterrows():\n",
    "        row = row * watched_proportions[ind]\n",
    "        user_watched_data.loc[ind] = row\n",
    "\n",
    "    sum = user_watched_data.sum()\n",
    "    print(\"======= the weighted vector =======\")\n",
    "    print(sum[sum != 0])\n",
    "\n",
    "    # Compute cosine similarity\n",
    "    cosine_similarities = cosine_similarity([sum], data)\n",
    "\n",
    "    # Get indices of videos sorted by similarity (excluding the user's watched videos)\n",
    "    video_indices = sorted(range(len(cosine_similarities[0])), key=lambda i: cosine_similarities[0][i], reverse=True)\n",
    "    recommended_indices = [index for index in video_indices if index not in user_watched_indices]\n",
    "\n",
    "    # Recommend the top N videos\n",
    "    top_n_recommendations = recommended_indices[:N]  # Replace N with the desired number of recommendations\n",
    "\n",
    "    # Display or use the recommended indices\n",
    "    print(\"\\n============\")\n",
    "    print(\"Recommended Video Indices:\", top_n_recommendations)\n",
    "    for rec in top_n_recommendations:\n",
    "        search_tag(rec)\n",
    "    return top_n_recommendations"
   ]
  },
  {
   "cell_type": "code",
   "execution_count": 373,
   "metadata": {},
   "outputs": [
    {
     "name": "stdout",
     "output_type": "stream",
     "text": [
      "======= the avg vector =======\n",
      "多項式的運算與應用    1.0\n",
      "直角三角形邊角關係    1.0\n",
      "dtype: float64\n",
      "======= the weighted vector =======\n",
      "多項式的運算與應用    1.0\n",
      "直角三角形邊角關係    1.0\n",
      "dtype: float64\n",
      "\n",
      "============\n",
      "Recommended Video Indices: [25, 37, 58, 68, 166, 185, 186, 198, 211, 17]\n",
      "the tag of id = 25\n",
      "多項式的運算與應用\n",
      "直角三角形邊角關係\n",
      "正弦定理、餘弦定理\n",
      "三角測量\n",
      "the tag of id = 37\n",
      "直角三角形邊角關係\n",
      "the tag of id = 58\n",
      "多項式的運算與應用\n",
      "the tag of id = 68\n",
      "多項式的運算與應用\n",
      "the tag of id = 166\n",
      "多項式的運算與應用\n",
      "the tag of id = 185\n",
      "直角三角形邊角關係\n",
      "the tag of id = 186\n",
      "多項式的運算與應用\n",
      "the tag of id = 198\n",
      "多項式的運算與應用\n",
      "the tag of id = 211\n",
      "直角三角形邊角關係\n",
      "the tag of id = 17\n",
      "直角三角形邊角關係\n",
      "三角測量\n"
     ]
    }
   ],
   "source": [
    "CS(10, [2, 4], [1, 1])\n"
   ]
  },
  {
   "cell_type": "code",
   "execution_count": 388,
   "metadata": {},
   "outputs": [
    {
     "name": "stdout",
     "output_type": "stream",
     "text": [
      "[150 194 142  15 102  75 178   3 170 170]\n",
      "[0.44039476 0.15150458 0.57586236 0.24727532 0.32121872 0.86498591\n",
      " 0.80998783 0.8663161  0.957648   0.80277531]\n",
      "======= the avg vector =======\n",
      "線性規劃              2.0\n",
      "正弦定理、餘弦定理         1.0\n",
      "指數                2.0\n",
      "常用對數              2.0\n",
      "平面向量的內積           4.0\n",
      "矩陣的運算             1.0\n",
      "矩陣的應用             1.0\n",
      "條件機率、貝氏定理、獨立事件    2.0\n",
      "dtype: float64\n",
      "======= the weighted vector =======\n",
      "線性規劃              1.760423\n",
      "正弦定理、餘弦定理         0.321219\n",
      "指數                0.398780\n",
      "常用對數              0.398780\n",
      "平面向量的內積           3.491725\n",
      "矩陣的運算             0.440395\n",
      "矩陣的應用             0.440395\n",
      "條件機率、貝氏定理、獨立事件    1.385850\n",
      "dtype: float64\n",
      "\n",
      "============\n",
      "Recommended Video Indices: [6, 9, 27, 51, 189, 200, 35, 47, 93, 146]\n",
      "the tag of id = 6\n",
      "平面向量的內積\n",
      "the tag of id = 9\n",
      "平面向量的內積\n",
      "the tag of id = 27\n",
      "平面向量的內積\n",
      "the tag of id = 51\n",
      "平面向量的內積\n",
      "the tag of id = 189\n",
      "平面向量的內積\n",
      "the tag of id = 200\n",
      "平面向量的內積\n",
      "the tag of id = 35\n",
      "正弦定理、餘弦定理\n",
      "平面向量的內積\n",
      "the tag of id = 47\n",
      "正弦定理、餘弦定理\n",
      "平面向量的內積\n",
      "the tag of id = 93\n",
      "正弦定理、餘弦定理\n",
      "平面向量的內積\n",
      "the tag of id = 146\n",
      "正弦定理、餘弦定理\n",
      "平面向量的內積\n"
     ]
    }
   ],
   "source": [
    "import random\n",
    "\n",
    "random_watched_indicies_array = np.random.randint(1, 200, 10)\n",
    "random_watched_proportion_array = np.random.uniform(0, 1, 10)\n",
    "print(random_watched_indicies_array)\n",
    "print(random_watched_proportion_array)\n",
    "CS(10, random_watched_indicies_array, random_watched_proportion_array)\n"
   ]
  },
  {
   "cell_type": "markdown",
   "metadata": {},
   "source": [
    "## Collaborative Filtering User Based"
   ]
  },
  {
   "cell_type": "markdown",
   "metadata": {},
   "source": [
    "### create random users"
   ]
  },
  {
   "cell_type": "code",
   "execution_count": 356,
   "metadata": {},
   "outputs": [],
   "source": [
    "user1 = {\n",
    "    'watched_indicies' : [1, 10 , 4, 47, 60, 88],\n",
    "    'watched_proportion' : [0.5, 0.3, 0.2, 1, 0.8, 0.2]\n",
    "}\n",
    "user2 = {\n",
    "    'watched_indicies' : [1, 10 ],\n",
    "    'watched_proportion' : [0.5, 1]\n",
    "}\n",
    "\n",
    "user3 = {\n",
    "    'watched_indicies' : [23, 45, 60, 12, 33],\n",
    "    'watched_proportion' : [0.5, 1, 1]\n",
    "}\n",
    "\n",
    "random_user_count = 10\n",
    "users = []\n",
    "\n",
    "for i in range(random_user_count):\n",
    "    random_watched_indicies_array = np.random.randint(1, 200, 10)\n",
    "    random_watched_proportion_array = np.random.uniform(0, 1, 10)\n",
    "    users.append({\n",
    "         'watched_indicies' : random_watched_indicies_array,\n",
    "         'watched_proportion' : random_watched_proportion_array\n",
    "    })\n"
   ]
  },
  {
   "cell_type": "code",
   "execution_count": 355,
   "metadata": {},
   "outputs": [],
   "source": [
    "def find_similar_user(N, quried_user_id, users):\n",
    "    # weigthed the data with watching proportion\n",
    "    quried_user = users[quried_user_id]\n",
    "    user_watched_data = data.iloc[quried_user['watched_indicies']]\n",
    "    quried_vec = user_watched_data.reset_index(drop=True)\n",
    "    for ind, row in quried_vec.iterrows():\n",
    "        row = row * quried_user['watched_proportion'][ind]\n",
    "        quried_vec.loc[ind] = row\n",
    "    quried_vec = quried_vec.sum().to_frame().T\n",
    "\n",
    "\n",
    "    users_vecs = None\n",
    "\n",
    "    for user in users:\n",
    "        user_watched_data = data.iloc[user['watched_indicies']]\n",
    "        feature_vec = user_watched_data.reset_index(drop=True)\n",
    "        for ind, row in feature_vec.iterrows():\n",
    "            row = row * user['watched_proportion'][ind]\n",
    "            feature_vec.loc[ind] = row\n",
    "        feature_vec = feature_vec.sum().to_frame().T\n",
    "        users_vecs = pd.concat([users_vecs, feature_vec], axis=0)\n",
    "    \n",
    "    # Compute cosine similarity\n",
    "    cosine_similarities = cosine_similarity(quried_vec, users_vecs)\n",
    "\n",
    "    # Get indices of users sorted by similarity\n",
    "    user_indices = sorted(range(len(cosine_similarities[0])), key=lambda i: cosine_similarities[0][i], reverse=True)\n",
    "    similar_user_indicies = [index for index in user_indices if index != quried_user_id]\n",
    "\n",
    "    # Recommend the top N videos\n",
    "    top_n_similar_users_indices = similar_user_indicies[:N] \n",
    "    # Replace N with the desired number of recommendations\n",
    "    print(top_n_similar_users_indices)"
   ]
  },
  {
   "cell_type": "code",
   "execution_count": 358,
   "metadata": {},
   "outputs": [
    {
     "name": "stdout",
     "output_type": "stream",
     "text": [
      "[3, 4, 6, 2, 8, 1]\n"
     ]
    }
   ],
   "source": [
    "find_similar_user(6, 0, users)"
   ]
  },
  {
   "cell_type": "code",
   "execution_count": 384,
   "metadata": {},
   "outputs": [],
   "source": [
    "def find_similar_video_from_users(N, quried_user_id, similar_user_ids, users):\n",
    "    video_indices_from_users = []\n",
    "\n",
    "    for user_id in similar_user_ids:\n",
    "        video_indices_from_users = np.concatenate([video_indices_from_users, users[user_id]['watched_indicies']])\n",
    "    \n",
    "    video_indices_from_users = np.unique(video_indices_from_users).astype(int)\n",
    "\n",
    "    data_from_users = data.iloc[video_indices_from_users]\n",
    "    #data_from_users.reset_index(drop=True)\n",
    "\n",
    "    quried_user = users[quried_user_id]\n",
    "    user_watched_data = data.iloc[quried_user['watched_indicies']]\n",
    "    quried_vec = user_watched_data.reset_index(drop=True)\n",
    "    for ind, row in quried_vec.iterrows():\n",
    "        row = row * quried_user['watched_proportion'][ind]\n",
    "        quried_vec.loc[ind] = row\n",
    "    quried_vec = quried_vec.sum().to_frame().T\n",
    "\n",
    "    # Compute cosine similarity\n",
    "    cosine_similarities = cosine_similarity(quried_vec, data_from_users)\n",
    "\n",
    "    # Get indices of videos sorted by similarity (excluding the user's watched videos)\n",
    "    indices = sorted(range(len(cosine_similarities[0])), key=lambda i: cosine_similarities[0][i], reverse=True)\n",
    "    video_indices = video_indices_from_users[indices]\n",
    "    recommended_indices = [index for index in video_indices if index not in users[quried_user_id][\"watched_indicies\"]]\n",
    "\n",
    "    # Recommend the top N videos\n",
    "    top_n_recommendations = recommended_indices[:N]  # Replace N with the desired number of recommendations\n",
    "    print(top_n_recommendations)\n",
    "\n",
    "    return top_n_recommendations\n",
    "    \n",
    "    "
   ]
  },
  {
   "cell_type": "code",
   "execution_count": 386,
   "metadata": {},
   "outputs": [],
   "source": [
    "def feature_vec_user(user_id, users):\n",
    "    quried_user = users[user_id]\n",
    "    user_watched_data = data.iloc[quried_user['watched_indicies']]\n",
    "    quried_vec = user_watched_data.reset_index(drop=True)\n",
    "    for ind, row in quried_vec.iterrows():\n",
    "        row = row * quried_user['watched_proportion'][ind]\n",
    "        quried_vec.loc[ind] = row\n",
    "    quried_vec = quried_vec.sum().to_frame().T\n",
    "    result = quried_vec.loc[0]\n",
    "    print(result[result != 0].sort_values(ascending=False)[:3])"
   ]
  },
  {
   "cell_type": "code",
   "execution_count": 387,
   "metadata": {},
   "outputs": [
    {
     "name": "stdout",
     "output_type": "stream",
     "text": [
      "[55, 47, 146, 13, 6, 116, 151, 126]\n",
      "the tag of id = 55\n",
      "條件機率、貝氏定理、獨立事件\n",
      "the tag of id = 47\n",
      "正弦定理、餘弦定理\n",
      "平面向量的內積\n",
      "the tag of id = 146\n",
      "正弦定理、餘弦定理\n",
      "平面向量的內積\n",
      "the tag of id = 13\n",
      "平面方程式\n",
      "平面上的線性變化與二階方陣\n",
      "the tag of id = 6\n",
      "平面向量的內積\n",
      "the tag of id = 116\n",
      "直角三角形邊角關係\n",
      "正弦定理、餘弦定理\n",
      "the tag of id = 151\n",
      "圓與直線關係\n",
      "平面向量的內積\n",
      "the tag of id = 126\n",
      "正弦定理、餘弦定理\n",
      "和角公式與差角公式\n",
      "平面向量的內積      2.970609\n",
      "正弦定理、餘弦定理    2.120538\n",
      "多項式的運算與應用    1.074515\n",
      "Name: 0, dtype: float64\n",
      "和角公式與差角公式    1.097797\n",
      "正弦定理、餘弦定理    0.983727\n",
      "三角測量         0.883289\n",
      "Name: 0, dtype: float64\n"
     ]
    }
   ],
   "source": [
    "similar_users_id = [1, 2]\n",
    "quried_user_id = 0\n",
    "N_similar_videos = 8\n",
    "\n",
    "recommended_indices = find_similar_video_from_users(N_similar_videos, quried_user_id, similar_users_id, users)\n",
    "for ind in recommended_indices:\n",
    "    search_tag(ind)\n",
    "\n",
    "for id in similar_users_id:\n",
    "    feature_vec_user(id, users)"
   ]
  }
 ],
 "metadata": {
  "kernelspec": {
   "display_name": "Python 3",
   "language": "python",
   "name": "python3"
  },
  "language_info": {
   "codemirror_mode": {
    "name": "ipython",
    "version": 3
   },
   "file_extension": ".py",
   "mimetype": "text/x-python",
   "name": "python",
   "nbconvert_exporter": "python",
   "pygments_lexer": "ipython3",
   "version": "3.10.13"
  }
 },
 "nbformat": 4,
 "nbformat_minor": 2
}
